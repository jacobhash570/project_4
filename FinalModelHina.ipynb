{
 "cells": [
  {
   "cell_type": "code",
   "execution_count": 31,
   "metadata": {},
   "outputs": [],
   "source": [
    "import pandas as pd\n",
    "from path import Path\n",
    "from sklearn.model_selection import train_test_split\n",
    "from sklearn.linear_model import LinearRegression\n",
    "from sklearn.metrics import r2_score\n",
    "import joblib"
   ]
  },
  {
   "cell_type": "code",
   "execution_count": 32,
   "metadata": {},
   "outputs": [
    {
     "data": {
      "text/plain": [
       "Index(['car_ID', 'symboling', 'fueltype', 'aspiration', 'doornumber',\n",
       "       'carbody', 'drivewheel', 'enginelocation', 'wheelbase', 'carlength',\n",
       "       'carwidth', 'carheight', 'curbweight', 'enginetype', 'cylindernumber',\n",
       "       'enginesize', 'fuelsystem', 'boreratio', 'stroke', 'compressionratio',\n",
       "       'horsepower', 'peakrpm', 'citympg', 'highwaympg', 'price',\n",
       "       'car_company'],\n",
       "      dtype='object')"
      ]
     },
     "execution_count": 32,
     "metadata": {},
     "output_type": "execute_result"
    }
   ],
   "source": [
    "file = \"Resources/cars_cleaned.csv\"\n",
    "df = pd.read_csv(file)\n",
    "df.columns"
   ]
  },
  {
   "cell_type": "code",
   "execution_count": 33,
   "metadata": {},
   "outputs": [
    {
     "data": {
      "text/plain": [
       "toyota         32\n",
       "nissan         18\n",
       "mazda          17\n",
       "mitsubishi     13\n",
       "honda          13\n",
       "volkswagen     12\n",
       "subaru         12\n",
       "peugeot        11\n",
       "volvo          11\n",
       "dodge           9\n",
       "buick           8\n",
       "bmw             8\n",
       "audi            7\n",
       "plymouth        7\n",
       "saab            6\n",
       "porsche         5\n",
       "isuzu           4\n",
       "jaguar          3\n",
       "chevrolet       3\n",
       "alfa-romero     3\n",
       "renault         2\n",
       "mercury         1\n",
       "Name: car_company, dtype: int64"
      ]
     },
     "execution_count": 33,
     "metadata": {},
     "output_type": "execute_result"
    }
   ],
   "source": [
    "df['car_company'].value_counts()"
   ]
  },
  {
   "cell_type": "code",
   "execution_count": 34,
   "metadata": {},
   "outputs": [],
   "source": [
    "\n",
    "y=df[\"price\"]\n",
    "\n",
    "#Select ['enginelocation', 'carwidth', 'carheight', 'curbweight', 'enginesize', 'car_company'] as features\n",
    "X=df.drop(columns=['car_ID', 'symboling', 'fueltype', 'aspiration', 'doornumber',\n",
    "       'carbody', 'drivewheel', 'wheelbase', 'carlength', 'enginetype', 'cylindernumber', 'fuelsystem', 'boreratio', 'stroke', 'compressionratio',\n",
    "       'horsepower', 'peakrpm', 'citympg', 'highwaympg', 'price'])\n",
    "X['enginelocation'] = X['enginelocation'].replace(['front'], 1)\n",
    "X['enginelocation'] = X['enginelocation'].replace(['rear'], 2)\n",
    "\n",
    "X['car_company'] = X['car_company'].replace(['toyota'], 1)\n",
    "X['car_company'] = X['car_company'].replace(['nissan'], 2)\n",
    "X['car_company'] = X['car_company'].replace(['mazda'], 3)\n",
    "X['car_company'] = X['car_company'].replace(['mitsubishi'], 4)\n",
    "X['car_company'] = X['car_company'].replace(['honda'], 5)\n",
    "X['car_company'] = X['car_company'].replace(['volkswagen'], 6)\n",
    "X['car_company'] = X['car_company'].replace(['subaru'], 7)\n",
    "X['car_company'] = X['car_company'].replace(['peugeot'], 8)\n",
    "X['car_company'] = X['car_company'].replace(['volvo'], 9)\n",
    "X['car_company'] = X['car_company'].replace(['dodge'], 10)\n",
    "X['car_company'] = X['car_company'].replace(['buick'], 11)\n",
    "X['car_company'] = X['car_company'].replace(['bmw'], 12)\n",
    "X['car_company'] = X['car_company'].replace(['audi'], 13)\n",
    "X['car_company'] = X['car_company'].replace(['plymouth'], 14)\n",
    "X['car_company'] = X['car_company'].replace(['saab'], 15)\n",
    "X['car_company'] = X['car_company'].replace(['porsche'], 16)\n",
    "X['car_company'] = X['car_company'].replace(['isuzu'], 17)\n",
    "X['car_company'] = X['car_company'].replace(['jaguar'], 18)\n",
    "X['car_company'] = X['car_company'].replace(['chevrolet'], 19)\n",
    "X['car_company'] = X['car_company'].replace(['alfa-romero'], 20)\n",
    "X['car_company'] = X['car_company'].replace(['renault'], 21)\n",
    "X['car_company'] = X['car_company'].replace(['mercury'], 22)\n",
    "\n"
   ]
  },
  {
   "cell_type": "code",
   "execution_count": 35,
   "metadata": {},
   "outputs": [],
   "source": [
    "X_train, X_test, y_train, y_test = train_test_split(X, y, random_state=78)"
   ]
  },
  {
   "cell_type": "code",
   "execution_count": 36,
   "metadata": {},
   "outputs": [
    {
     "name": "stdout",
     "output_type": "stream",
     "text": [
      "0.8662625977468249\n"
     ]
    }
   ],
   "source": [
    "linreg = LinearRegression()\n",
    "\n",
    "# fit with 6 features\n",
    "linreg.fit(X_train, y_train)\n",
    "\n",
    "# predict\n",
    "y_pred = linreg.predict(X_test)\n",
    "\n",
    "# r-squared\n",
    "print(r2_score(y_test, y_pred))"
   ]
  },
  {
   "cell_type": "code",
   "execution_count": 37,
   "metadata": {},
   "outputs": [
    {
     "data": {
      "text/plain": [
       "['finalModel_Hina.joblib']"
      ]
     },
     "execution_count": 37,
     "metadata": {},
     "output_type": "execute_result"
    }
   ],
   "source": [
    "joblib.dump(linreg, \"finalModel_Hina.joblib\")"
   ]
  },
  {
   "cell_type": "code",
   "execution_count": null,
   "metadata": {},
   "outputs": [],
   "source": []
  }
 ],
 "metadata": {
  "kernelspec": {
   "display_name": "Python 3 (ipykernel)",
   "language": "python",
   "name": "python3"
  },
  "language_info": {
   "codemirror_mode": {
    "name": "ipython",
    "version": 3
   },
   "file_extension": ".py",
   "mimetype": "text/x-python",
   "name": "python",
   "nbconvert_exporter": "python",
   "pygments_lexer": "ipython3",
   "version": "3.8.8"
  }
 },
 "nbformat": 4,
 "nbformat_minor": 4
}
